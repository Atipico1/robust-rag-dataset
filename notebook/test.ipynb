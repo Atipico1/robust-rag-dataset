{
 "cells": [
  {
   "cell_type": "code",
   "execution_count": 2,
   "metadata": {},
   "outputs": [
    {
     "name": "stdout",
     "output_type": "stream",
     "text": [
      "First name: Michael\n"
     ]
    }
   ],
   "source": [
    "import re\n",
    "\n",
    "# 입력 문자열\n",
    "input_str = \"{'first_name': 'Michael', 'last_name': 'Jordan'\"\n",
    "\n",
    "# 정규 표현식을 사용하여 first_name의 값을 찾습니다.\n",
    "match = re.search(r\"'first_name':\\s*'([^']*)'\", input_str)\n",
    "if match:\n",
    "    first_name_value = match.group(1)\n",
    "    print(f\"First name: {first_name_value}\")\n",
    "else:\n",
    "    print(\"First name not found\")\n"
   ]
  },
  {
   "cell_type": "code",
   "execution_count": null,
   "metadata": {},
   "outputs": [],
   "source": []
  }
 ],
 "metadata": {
  "kernelspec": {
   "display_name": "exp",
   "language": "python",
   "name": "python3"
  },
  "language_info": {
   "codemirror_mode": {
    "name": "ipython",
    "version": 3
   },
   "file_extension": ".py",
   "mimetype": "text/x-python",
   "name": "python",
   "nbconvert_exporter": "python",
   "pygments_lexer": "ipython3",
   "version": "3.10.13"
  }
 },
 "nbformat": 4,
 "nbformat_minor": 2
}
